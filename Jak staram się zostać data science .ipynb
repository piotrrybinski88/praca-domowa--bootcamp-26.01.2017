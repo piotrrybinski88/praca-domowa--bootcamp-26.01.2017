{
 "cells": [
  {
   "cell_type": "markdown",
   "metadata": {},
   "source": [
    "First of all I bought humble bundle about data sciecne. There was book \n",
    "about data science. This book was to heavy and hard for me. I need background of statistic, math and programming(Python or R).\n",
    "I made cours from udacity intro to statistic and started to learn coding. I started courses on DataCamp R and Python. I also realized is really hard to choose good source and for me was hard to understood evrything what I reading in english. When I realized that i stearted to looking for cours in polish lenguage. First of all i also need place when i can go to learn. I also need teachers who can show the way and can solidify my knowlage. I also take cours on udemy in Python and SQl but i don't finished them yet. I either try to read books like Think Stats, Think like a programmer. \n",
    "    In my opinion i need focus on one think. So i decided to take lists and ordering here what i want to read first. \n",
    "    I also want to sort what i want to learn and how. \n",
    "    First of all i want to focus on my homework and prepre well to data science cours from sages. And learn Github really fast to save my work.\n",
    "    Then i want to make visualization of my Ft excel and try work with my files. To figure out what a project i want to do. \n",
    "    Second i want to end my udemy cours about Python.\n",
    "    Third I want to finish algebra lesson in khan academy.\n",
    "    And Here i have list of book i want to read in this order:\n",
    "    1. Head First data Science.\n",
    "    2.  You Are Not So Smart\n",
    "    3.  Think Like a Freak \n",
    "    4.  Innumeracy\n",
    "    5. Naked Statistics \n",
    "    6. Practical Statistics for Data Scientists( i buy this book when i finished rest of them)\n",
    "    7. Think Stats\n",
    "    Then i want to make machine learning cours from udemy.\n",
    "    \n",
    "I will be monitoring what i doing and fill in this notebook."
   ]
  }
 ],
 "metadata": {
  "kernelspec": {
   "display_name": "Python 3",
   "language": "python",
   "name": "python3"
  },
  "language_info": {
   "codemirror_mode": {
    "name": "ipython",
    "version": 3
   },
   "file_extension": ".py",
   "mimetype": "text/x-python",
   "name": "python",
   "nbconvert_exporter": "python",
   "pygments_lexer": "ipython3",
   "version": "3.6.3"
  }
 },
 "nbformat": 4,
 "nbformat_minor": 2
}
