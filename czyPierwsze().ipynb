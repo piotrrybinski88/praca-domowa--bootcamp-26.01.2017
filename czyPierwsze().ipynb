{
 "cells": [
  {
   "cell_type": "markdown",
   "metadata": {},
   "source": [
    "### Praca domowa Piotr Rybiński "
   ]
  },
  {
   "cell_type": "markdown",
   "metadata": {},
   "source": [
    "#### Zadanie 2.1"
   ]
  },
  {
   "cell_type": "raw",
   "metadata": {},
   "source": [
    "Write Function czyPierwsze().\n",
    "argument - one dimension array with integer numbers \n",
    "output - array with Boolean type, True when number is prime else False "
   ]
  },
  {
   "cell_type": "code",
   "execution_count": 11,
   "metadata": {},
   "outputs": [
    {
     "data": {
      "text/plain": [
       "False"
      ]
     },
     "execution_count": 11,
     "metadata": {},
     "output_type": "execute_result"
    }
   ],
   "source": [
    "import numpy as np\n",
    "from sympy import sieve\n",
    "# sieve tests is the number prime\n",
    "25 in sieve"
   ]
  },
  {
   "cell_type": "code",
   "execution_count": 32,
   "metadata": {},
   "outputs": [
    {
     "name": "stdout",
     "output_type": "stream",
     "text": [
      "['False' 'False' 'True' 'True' 'False' 'True' 'False' 'True']\n",
      "['False' 'True' 'True' 'False' 'True' 'False' 'True' 'True' 'False' 'True']\n",
      "['False' 'False' 'False' 'True' 'True']\n"
     ]
    }
   ],
   "source": [
    "import numpy as np\n",
    "from sympy import sieve\n",
    "# sieve returns boolean that number is Prime.\n",
    "\n",
    "def czyPierwsze(array):\n",
    "    \"\"\"\n",
    "    argument:  one dimensional array of integers\n",
    "    return: boolean array where checked the number is prime or not  \n",
    "    \"\"\"\n",
    "    return np.where([num in sieve for num in array] , \"True\", \"False\")\n",
    "\n",
    "\n",
    "# test :\n",
    "array1 = np.array([1, 10, 3, 5, 12, 13, 27, 37])\n",
    "print(czyPierwsze(array1))\n",
    "print(czyPierwsze(np.array([1,2,3,4,5,6,7,11,22,19])))\n",
    "print(czyPierwsze(np.array([123, 234, 123525, 443, 157])))"
   ]
  },
  {
   "cell_type": "code",
   "execution_count": 24,
   "metadata": {},
   "outputs": [
    {
     "name": "stdout",
     "output_type": "stream",
     "text": [
      "1 is not a prime number\n"
     ]
    }
   ],
   "source": [
    "# Python program to check if the input number is prime or not\n",
    "\n",
    "num = 1\n",
    "\n",
    "# take input from the user\n",
    "# num = int(input(\"Enter a number: \"))\n",
    "\n",
    "# prime numbers are greater than 1\n",
    "if num > 1:\n",
    "   # check for factors\n",
    "   for i in range(2,num):\n",
    "       if num % i == 0:\n",
    "           print(num,\"is not a prime number\")\n",
    "           print(i,\"times\",num//i,\"is\",num)\n",
    "           break\n",
    "   else:\n",
    "       print(num,\"is a prime number\")\n",
    "       \n",
    "# if input number is less than\n",
    "# or equal to 1, it is not prime\n",
    "else:\n",
    "   print(num,\"is not a prime number\")\n"
   ]
  },
  {
   "cell_type": "code",
   "execution_count": null,
   "metadata": {
    "collapsed": true
   },
   "outputs": [],
   "source": [
    "\n",
    "\n",
    "            \n",
    "        \n",
    "        "
   ]
  }
 ],
 "metadata": {
  "kernelspec": {
   "display_name": "Python 3",
   "language": "python",
   "name": "python3"
  },
  "language_info": {
   "codemirror_mode": {
    "name": "ipython",
    "version": 3
   },
   "file_extension": ".py",
   "mimetype": "text/x-python",
   "name": "python",
   "nbconvert_exporter": "python",
   "pygments_lexer": "ipython3",
   "version": "3.6.3"
  }
 },
 "nbformat": 4,
 "nbformat_minor": 2
}
