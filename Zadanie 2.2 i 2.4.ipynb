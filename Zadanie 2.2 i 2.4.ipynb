{
 "cells": [
  {
   "cell_type": "markdown",
   "metadata": {},
   "source": [
    "### Zadanie 2.2"
   ]
  },
  {
   "cell_type": "markdown",
   "metadata": {},
   "source": [
    "Write moving average function\n",
    "arguments - one dimensional array with float numbers with n elements,\n",
    "k - odd natrual number when k < n\n",
    "output -  array of moving avarage w "
   ]
  },
  {
   "cell_type": "markdown",
   "metadata": {},
   "source": [
    "1. zdefiniowac funkcje sredniaRuchoma()\n",
    "2. jako argumnety przyjąć:\n",
    " - float number array of n elements\n",
    " - k odd natural number when k < n\n",
    "3. output array of moving avarage\n",
    "4. use formula \n"
   ]
  },
  {
   "cell_type": "code",
   "execution_count": 1,
   "metadata": {
    "collapsed": true
   },
   "outputs": [],
   "source": [
    "import numpy as np\n",
    "\n",
    "def sredniaRuchoma(array, k):\n",
    "    \n",
    "    n = len(array)\n",
    "    \n",
    "    if not k < n: \n",
    "        raise ValueError(\"k must be lower then n \")\n",
    "        \n",
    "    pass\n",
    "    \n",
    "    "
   ]
  },
  {
   "cell_type": "code",
   "execution_count": 2,
   "metadata": {},
   "outputs": [
    {
     "ename": "ValueError",
     "evalue": "operands could not be broadcast together with shapes (2,) (3,) ",
     "output_type": "error",
     "traceback": [
      "\u001b[1;31m---------------------------------------------------------------------------\u001b[0m",
      "\u001b[1;31mValueError\u001b[0m                                Traceback (most recent call last)",
      "\u001b[1;32m<ipython-input-2-f8a72e19faa6>\u001b[0m in \u001b[0;36m<module>\u001b[1;34m()\u001b[0m\n\u001b[0;32m      8\u001b[0m \u001b[0mj\u001b[0m \u001b[1;33m=\u001b[0m \u001b[0mnp\u001b[0m\u001b[1;33m.\u001b[0m\u001b[0marange\u001b[0m\u001b[1;33m(\u001b[0m\u001b[1;36m1\u001b[0m\u001b[1;33m,\u001b[0m \u001b[0mk\u001b[0m \u001b[1;33m+\u001b[0m \u001b[1;36m1\u001b[0m \u001b[1;33m)\u001b[0m\u001b[1;33m\u001b[0m\u001b[0m\n\u001b[0;32m      9\u001b[0m \u001b[1;31m# brak pomysłu narazie trzeba użyć więcej numpy\u001b[0m\u001b[1;33m\u001b[0m\u001b[1;33m\u001b[0m\u001b[0m\n\u001b[1;32m---> 10\u001b[1;33m \u001b[0msredniaRuchoma1\u001b[0m \u001b[1;33m=\u001b[0m \u001b[0mnp\u001b[0m\u001b[1;33m.\u001b[0m\u001b[0msum\u001b[0m\u001b[1;33m(\u001b[0m\u001b[0mx1\u001b[0m\u001b[1;33m[\u001b[0m\u001b[0mi\u001b[0m \u001b[1;33m+\u001b[0m \u001b[0mj\u001b[0m \u001b[1;33m-\u001b[0m \u001b[1;36m1\u001b[0m\u001b[1;33m]\u001b[0m\u001b[1;33m)\u001b[0m\u001b[1;33m\u001b[0m\u001b[0m\n\u001b[0m\u001b[0;32m     11\u001b[0m \u001b[1;31m#sredniaRuchoma1\u001b[0m\u001b[1;33m\u001b[0m\u001b[1;33m\u001b[0m\u001b[0m\n",
      "\u001b[1;31mValueError\u001b[0m: operands could not be broadcast together with shapes (2,) (3,) "
     ]
    }
   ],
   "source": [
    "x = np.array([1.4,3.4,4.4,5.4])\n",
    "n = len(x)\n",
    "x1 = np.insert(x, 0, 0)\n",
    "k = 3 \n",
    "# wi przyjmuje wartosći od 1 do n - k + 1 \n",
    "# j przyjmuje wartości od 1 do k \n",
    "i =  np.arange(1, n - k + 1 + 1)\n",
    "j = np.arange(1, k + 1 )\n",
    "# brak pomysłu narazie trzeba użyć więcej numpy \n",
    "sredniaRuchoma1 = np.sum(x1[i + j - 1])\n",
    "#sredniaRuchoma1\n"
   ]
  },
  {
   "cell_type": "code",
   "execution_count": 29,
   "metadata": {},
   "outputs": [
    {
     "name": "stdout",
     "output_type": "stream",
     "text": [
      "4 [1 2] [1 2 3] [ 0.   1.4  3.4  4.4  5.4]\n"
     ]
    }
   ],
   "source": [
    "print(n, i, j, x1)"
   ]
  },
  {
   "cell_type": "markdown",
   "metadata": {},
   "source": [
    "### Zadanie 2.4\n",
    "narazie rozwiązane z pętlą, znaleźć sposób na rozwiązanie za pomocą numpy"
   ]
  },
  {
   "cell_type": "code",
   "execution_count": 14,
   "metadata": {
    "collapsed": true
   },
   "outputs": [],
   "source": [
    "a = np.array([1, 2, 3, 2])"
   ]
  },
  {
   "cell_type": "code",
   "execution_count": 5,
   "metadata": {},
   "outputs": [],
   "source": [
    "# bez użycia numpy za to z pętlą\n",
    "def wartoscWielomianu1(wspolczynniki, x):\n",
    "    \n",
    "    wartosc = wspolczynniki[0]\n",
    "    potega = 1\n",
    "    \n",
    "    for i in range(1, len(wspolczynniki)):\n",
    "        \n",
    "        wartosc += (wspolczynniki[i] * x ** potega)\n",
    "        potega += 1\n",
    "    \n",
    "    return wartosc\n"
   ]
  },
  {
   "cell_type": "code",
   "execution_count": 6,
   "metadata": {},
   "outputs": [
    {
     "data": {
      "text/plain": [
       "1"
      ]
     },
     "execution_count": 6,
     "metadata": {},
     "output_type": "execute_result"
    }
   ],
   "source": [
    "wartoscWielomianu1(a, 0) "
   ]
  },
  {
   "cell_type": "code",
   "execution_count": 7,
   "metadata": {},
   "outputs": [
    {
     "data": {
      "text/plain": [
       "6"
      ]
     },
     "execution_count": 7,
     "metadata": {},
     "output_type": "execute_result"
    }
   ],
   "source": [
    "wartoscWielomianu1(a, 1)"
   ]
  },
  {
   "cell_type": "code",
   "execution_count": 8,
   "metadata": {},
   "outputs": [
    {
     "data": {
      "text/plain": [
       "17"
      ]
     },
     "execution_count": 8,
     "metadata": {},
     "output_type": "execute_result"
    }
   ],
   "source": [
    "wartoscWielomianu1(a, 2)"
   ]
  },
  {
   "cell_type": "code",
   "execution_count": 12,
   "metadata": {
    "collapsed": true
   },
   "outputs": [],
   "source": [
    "def wartoscWielomianu(wspolczyniki, x):\n",
    "    \"\"\" argumenty - wektor współczyników, x - punkt dla którego obliczamy wartość \"\"\"\n",
    "    potega = np.arange(1, len(wspolczyniki))\n",
    "    wartosc = wspolczyniki[0]  + np.sum(wspolczyniki[1:] * x ** potega)\n",
    "    \n",
    "    return wartosc "
   ]
  },
  {
   "cell_type": "code",
   "execution_count": 16,
   "metadata": {},
   "outputs": [
    {
     "data": {
      "text/plain": [
       "336"
      ]
     },
     "execution_count": 16,
     "metadata": {},
     "output_type": "execute_result"
    }
   ],
   "source": [
    "wartoscWielomianu(a, 5)"
   ]
  },
  {
   "cell_type": "code",
   "execution_count": null,
   "metadata": {
    "collapsed": true
   },
   "outputs": [],
   "source": []
  }
 ],
 "metadata": {
  "kernelspec": {
   "display_name": "Python 3",
   "language": "python",
   "name": "python3"
  },
  "language_info": {
   "codemirror_mode": {
    "name": "ipython",
    "version": 3
   },
   "file_extension": ".py",
   "mimetype": "text/x-python",
   "name": "python",
   "nbconvert_exporter": "python",
   "pygments_lexer": "ipython3",
   "version": "3.6.3"
  }
 },
 "nbformat": 4,
 "nbformat_minor": 2
}
